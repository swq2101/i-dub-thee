{
  "nbformat": 4,
  "nbformat_minor": 0,
  "metadata": {
    "colab": {
      "name": "i-dub-thee.ipynb",
      "provenance": [],
      "mount_file_id": "1BMOCuvzg2Xh4n34whSMzTqIufKV6cE8A",
      "authorship_tag": "ABX9TyME6wk8KwzsADqvqJ3sBpRy",
      "include_colab_link": true
    },
    "kernelspec": {
      "name": "python3",
      "display_name": "Python 3"
    },
    "language_info": {
      "name": "python"
    }
  },
  "cells": [
    {
      "cell_type": "markdown",
      "metadata": {
        "id": "view-in-github",
        "colab_type": "text"
      },
      "source": [
        "<a href=\"https://colab.research.google.com/github/swq2101/i-dub-thee/blob/main/i_dub_thee.ipynb\" target=\"_parent\"><img src=\"https://colab.research.google.com/assets/colab-badge.svg\" alt=\"Open In Colab\"/></a>"
      ]
    },
    {
      "cell_type": "code",
      "metadata": {
        "id": "GdctMA7tdgTk"
      },
      "source": [
        "!mkdir \"/content/sample_data/samples\"\n",
        "!unzip \"/content/drive/MyDrive/i-dub-thee/samples.zip\" -d \"/content/sample_data/samples\""
      ],
      "execution_count": null,
      "outputs": []
    },
    {
      "cell_type": "code",
      "metadata": {
        "id": "8MeS3fxMdZWC"
      },
      "source": [
        "import pandas as pd\n",
        "import os"
      ],
      "execution_count": 6,
      "outputs": []
    },
    {
      "cell_type": "code",
      "metadata": {
        "colab": {
          "base_uri": "https://localhost:8080/",
          "height": 419
        },
        "id": "rLX9Ejntf66S",
        "outputId": "6f080028-41e9-47ca-eaa5-2f34de404af9"
      },
      "source": [
        "#load files and get classes\n",
        "subdirectories = []\n",
        "classes = {\"relative_path\":[], \"class_id\":[]}\n",
        "\n",
        "root = \"/content/sample_data/samples/samples\"\n",
        "with os.scandir(root) as entries:\n",
        "  for entry in entries:\n",
        "        if entry.name != \".DS_Store\":\n",
        "          subdirectories.append(entry.name)\n",
        "\n",
        "class_id = 0\n",
        "\n",
        "for sd in subdirectories:\n",
        "  with os.scandir(root + \"/\" + sd) as entries:\n",
        "    for entry in entries:\n",
        "      if entry.name != \".DS_Store\":\n",
        "          classes[\"relative_path\"].append(root + \"/\" + sd + \"/\" + entry.name)\n",
        "          classes[\"class_id\"].append(class_id)\n",
        "    class_id += 1\n",
        "\n",
        "df = pd.DataFrame(data=classes)\n",
        "\n"
      ],
      "execution_count": 21,
      "outputs": [
        {
          "output_type": "execute_result",
          "data": {
            "text/html": [
              "<div>\n",
              "<style scoped>\n",
              "    .dataframe tbody tr th:only-of-type {\n",
              "        vertical-align: middle;\n",
              "    }\n",
              "\n",
              "    .dataframe tbody tr th {\n",
              "        vertical-align: top;\n",
              "    }\n",
              "\n",
              "    .dataframe thead th {\n",
              "        text-align: right;\n",
              "    }\n",
              "</style>\n",
              "<table border=\"1\" class=\"dataframe\">\n",
              "  <thead>\n",
              "    <tr style=\"text-align: right;\">\n",
              "      <th></th>\n",
              "      <th>relative_path</th>\n",
              "      <th>class_id</th>\n",
              "    </tr>\n",
              "  </thead>\n",
              "  <tbody>\n",
              "    <tr>\n",
              "      <th>0</th>\n",
              "      <td>/content/sample_data/samples/samples/yuriLowen...</td>\n",
              "      <td>0</td>\n",
              "    </tr>\n",
              "    <tr>\n",
              "      <th>1</th>\n",
              "      <td>/content/sample_data/samples/samples/yuriLowen...</td>\n",
              "      <td>0</td>\n",
              "    </tr>\n",
              "    <tr>\n",
              "      <th>2</th>\n",
              "      <td>/content/sample_data/samples/samples/yuriLowen...</td>\n",
              "      <td>0</td>\n",
              "    </tr>\n",
              "    <tr>\n",
              "      <th>3</th>\n",
              "      <td>/content/sample_data/samples/samples/yuriLowen...</td>\n",
              "      <td>0</td>\n",
              "    </tr>\n",
              "    <tr>\n",
              "      <th>4</th>\n",
              "      <td>/content/sample_data/samples/samples/yuriLowen...</td>\n",
              "      <td>0</td>\n",
              "    </tr>\n",
              "    <tr>\n",
              "      <th>...</th>\n",
              "      <td>...</td>\n",
              "      <td>...</td>\n",
              "    </tr>\n",
              "    <tr>\n",
              "      <th>142</th>\n",
              "      <td>/content/sample_data/samples/samples/matthewMe...</td>\n",
              "      <td>2</td>\n",
              "    </tr>\n",
              "    <tr>\n",
              "      <th>143</th>\n",
              "      <td>/content/sample_data/samples/samples/matthewMe...</td>\n",
              "      <td>2</td>\n",
              "    </tr>\n",
              "    <tr>\n",
              "      <th>144</th>\n",
              "      <td>/content/sample_data/samples/samples/matthewMe...</td>\n",
              "      <td>2</td>\n",
              "    </tr>\n",
              "    <tr>\n",
              "      <th>145</th>\n",
              "      <td>/content/sample_data/samples/samples/matthewMe...</td>\n",
              "      <td>2</td>\n",
              "    </tr>\n",
              "    <tr>\n",
              "      <th>146</th>\n",
              "      <td>/content/sample_data/samples/samples/matthewMe...</td>\n",
              "      <td>2</td>\n",
              "    </tr>\n",
              "  </tbody>\n",
              "</table>\n",
              "<p>147 rows × 2 columns</p>\n",
              "</div>"
            ],
            "text/plain": [
              "                                         relative_path  class_id\n",
              "0    /content/sample_data/samples/samples/yuriLowen...         0\n",
              "1    /content/sample_data/samples/samples/yuriLowen...         0\n",
              "2    /content/sample_data/samples/samples/yuriLowen...         0\n",
              "3    /content/sample_data/samples/samples/yuriLowen...         0\n",
              "4    /content/sample_data/samples/samples/yuriLowen...         0\n",
              "..                                                 ...       ...\n",
              "142  /content/sample_data/samples/samples/matthewMe...         2\n",
              "143  /content/sample_data/samples/samples/matthewMe...         2\n",
              "144  /content/sample_data/samples/samples/matthewMe...         2\n",
              "145  /content/sample_data/samples/samples/matthewMe...         2\n",
              "146  /content/sample_data/samples/samples/matthewMe...         2\n",
              "\n",
              "[147 rows x 2 columns]"
            ]
          },
          "metadata": {
            "tags": []
          },
          "execution_count": 21
        }
      ]
    }
  ]
}